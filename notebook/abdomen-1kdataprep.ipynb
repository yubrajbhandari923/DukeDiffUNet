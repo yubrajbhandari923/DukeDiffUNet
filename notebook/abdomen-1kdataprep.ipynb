{
 "cells": [
  {
   "cell_type": "code",
   "execution_count": 1,
   "id": "0794b117",
   "metadata": {},
   "outputs": [
    {
     "ename": "FileNotFoundError",
     "evalue": "[Errno 2] No such file or directory: '/scratch/railabs/ld258/dataset/public_dataset/CT_images/abdomen/abdomen_1k/unzipped/AbdomenCT-1K/'",
     "output_type": "error",
     "traceback": [
      "\u001b[0;31m---------------------------------------------------------------------------\u001b[0m",
      "\u001b[0;31mFileNotFoundError\u001b[0m                         Traceback (most recent call last)",
      "Cell \u001b[0;32mIn[1], line 31\u001b[0m\n\u001b[1;32m     27\u001b[0m         \u001b[38;5;28;01mfor\u001b[39;00m entry \u001b[38;5;129;01min\u001b[39;00m dataset:\n\u001b[1;32m     28\u001b[0m             f\u001b[38;5;241m.\u001b[39mwrite(json\u001b[38;5;241m.\u001b[39mdumps(entry) \u001b[38;5;241m+\u001b[39m \u001b[38;5;124m\"\u001b[39m\u001b[38;5;130;01m\\n\u001b[39;00m\u001b[38;5;124m\"\u001b[39m)\n\u001b[0;32m---> 31\u001b[0m \u001b[43mcreate_jsonl_dataset\u001b[49m\u001b[43m(\u001b[49m\n\u001b[1;32m     32\u001b[0m \u001b[43m    \u001b[49m\u001b[43mIMAGE_PATH\u001b[49m\u001b[43m,\u001b[49m\u001b[43m \u001b[49m\u001b[43mMASK_PATH\u001b[49m\u001b[43m,\u001b[49m\u001b[43m \u001b[49m\u001b[38;5;124;43m\"\u001b[39;49m\u001b[38;5;124;43m/home/yb107/cvpr2025/DukeDiffSeg/data/json/abdomen_1k.jsonl\u001b[39;49m\u001b[38;5;124;43m\"\u001b[39;49m\n\u001b[1;32m     33\u001b[0m \u001b[43m)\u001b[49m\n\u001b[1;32m     35\u001b[0m \u001b[38;5;66;03m# Jsonl file format:\u001b[39;00m\n\u001b[1;32m     36\u001b[0m \u001b[38;5;66;03m# {\"image\": \"/path/to/image.nii.gz\", \"mask\": \"/path/to/mask.nii.gz\"}\u001b[39;00m\n\u001b[1;32m     39\u001b[0m \u001b[38;5;28;01mdef\u001b[39;00m\u001b[38;5;250m \u001b[39m\u001b[38;5;21mdivide_jsonl_train_val_test\u001b[39m(\n\u001b[1;32m     40\u001b[0m     jsonl_file, train_file, val_file, test_file, train_ratio\u001b[38;5;241m=\u001b[39m\u001b[38;5;241m0.7\u001b[39m, val_ratio\u001b[38;5;241m=\u001b[39m\u001b[38;5;241m0.2\u001b[39m\n\u001b[1;32m     41\u001b[0m ):\n",
      "Cell \u001b[0;32mIn[1], line 14\u001b[0m, in \u001b[0;36mcreate_jsonl_dataset\u001b[0;34m(image_path, mask_path, output_file)\u001b[0m\n\u001b[1;32m      9\u001b[0m \u001b[38;5;250m\u001b[39m\u001b[38;5;124;03m\"\"\"Go through every .nii.gz file in image_path, find the corresponding mask file,\u001b[39;00m\n\u001b[1;32m     10\u001b[0m \u001b[38;5;124;03mand create a JSONL file with the image and mask paths.\u001b[39;00m\n\u001b[1;32m     11\u001b[0m \u001b[38;5;124;03m\"\"\"\u001b[39;00m\n\u001b[1;32m     12\u001b[0m dataset \u001b[38;5;241m=\u001b[39m []\n\u001b[0;32m---> 14\u001b[0m \u001b[38;5;28;01mfor\u001b[39;00m filename \u001b[38;5;129;01min\u001b[39;00m \u001b[43mos\u001b[49m\u001b[38;5;241;43m.\u001b[39;49m\u001b[43mlistdir\u001b[49m\u001b[43m(\u001b[49m\u001b[43mimage_path\u001b[49m\u001b[43m)\u001b[49m:\n\u001b[1;32m     15\u001b[0m     \u001b[38;5;28;01mif\u001b[39;00m filename\u001b[38;5;241m.\u001b[39mendswith(\u001b[38;5;124m\"\u001b[39m\u001b[38;5;124m.nii.gz\u001b[39m\u001b[38;5;124m\"\u001b[39m):\n\u001b[1;32m     16\u001b[0m         image_file \u001b[38;5;241m=\u001b[39m os\u001b[38;5;241m.\u001b[39mpath\u001b[38;5;241m.\u001b[39mjoin(image_path, filename)\n",
      "\u001b[0;31mFileNotFoundError\u001b[0m: [Errno 2] No such file or directory: '/scratch/railabs/ld258/dataset/public_dataset/CT_images/abdomen/abdomen_1k/unzipped/AbdomenCT-1K/'"
     ]
    }
   ],
   "source": [
    "IMAGE_PATH = \"/scratch/railabs/ld258/dataset/public_dataset/CT_images/abdomen/abdomen_1k/unzipped/AbdomenCT-1K/\"\n",
    "MASK_PATH = \"/scratch/railabs/ld258/dataset/public_dataset/CT_images/abdomen/abdomen_1k/unzipped/Masks/\"\n",
    "\n",
    "import os\n",
    "import json\n",
    "\n",
    "\n",
    "def create_jsonl_dataset(image_path, mask_path, output_file):\n",
    "    \"\"\"Go through every .nii.gz file in image_path, find the corresponding mask file,\n",
    "    and create a JSONL file with the image and mask paths.\n",
    "    \"\"\"\n",
    "    dataset = []\n",
    "\n",
    "    for filename in os.listdir(image_path):\n",
    "        if filename.endswith(\".nii.gz\"):\n",
    "            image_file = os.path.join(image_path, filename)\n",
    "            mask_file = os.path.join(\n",
    "                mask_path, filename.replace(\".nii.gz\", \"_mask.nii.gz\")\n",
    "            )\n",
    "\n",
    "            if os.path.exists(mask_file):\n",
    "                dataset.append({\"image\": image_file, \"mask\": mask_file})\n",
    "            else:\n",
    "                print(f\"Warning: Mask file for {filename} not found.\")\n",
    "\n",
    "    with open(output_file, \"w\") as f:\n",
    "        for entry in dataset:\n",
    "            f.write(json.dumps(entry) + \"\\n\")\n",
    "\n",
    "\n",
    "create_jsonl_dataset(\n",
    "    IMAGE_PATH, MASK_PATH, \"/home/yb107/cvpr2025/DukeDiffSeg/data/json/abdomen_1k.jsonl\"\n",
    ")\n",
    "\n",
    "# Jsonl file format:\n",
    "# {\"image\": \"/path/to/image.nii.gz\", \"mask\": \"/path/to/mask.nii.gz\"}\n",
    "\n",
    "\n",
    "def divide_jsonl_train_val_test(\n",
    "    jsonl_file, train_file, val_file, test_file, train_ratio=0.7, val_ratio=0.2\n",
    "):\n",
    "    \"\"\"Divide the JSONL dataset into train, validation, and test sets.\"\"\"\n",
    "    with open(jsonl_file, \"r\") as f:\n",
    "        entries = [json.loads(line) for line in f]\n",
    "\n",
    "    total_entries = len(entries)\n",
    "    train_end = int(total_entries * train_ratio)\n",
    "    val_end = int(total_entries * (train_ratio + val_ratio))\n",
    "\n",
    "    with open(train_file, \"w\") as f:\n",
    "        for entry in entries[:train_end]:\n",
    "            f.write(json.dumps(entry) + \"\\n\")\n",
    "\n",
    "    with open(val_file, \"w\") as f:\n",
    "        for entry in entries[train_end:val_end]:\n",
    "            f.write(json.dumps(entry) + \"\\n\")\n",
    "\n",
    "    with open(test_file, \"w\") as f:\n",
    "        for entry in entries[val_end:]:\n",
    "            f.write(json.dumps(entry) + \"\\n\")\n",
    "\n",
    "\n",
    "divide_jsonl_train_val_test(\n",
    "    \"/home/yb107/cvpr2025/DukeDiffSeg/data/json/abdomen_1k.jsonl\",\n",
    "    \"/home/yb107/cvpr2025/DukeDiffSeg/data/json/abdomen_1k_train.jsonl\",\n",
    "    \"/home/yb107/cvpr2025/DukeDiffSeg/data/json/abdomen_1k_val.jsonl\",\n",
    "    \"/home/yb107/cvpr2025/DukeDiffSeg/data/json/abdomen_1k_test.jsonl\",\n",
    ")"
   ]
  }
 ],
 "metadata": {
  "kernelspec": {
   "display_name": "DukeDiffSeg-HooVw7aP",
   "language": "python",
   "name": "python3"
  },
  "language_info": {
   "codemirror_mode": {
    "name": "ipython",
    "version": 3
   },
   "file_extension": ".py",
   "mimetype": "text/x-python",
   "name": "python",
   "nbconvert_exporter": "python",
   "pygments_lexer": "ipython3",
   "version": "3.10.12"
  }
 },
 "nbformat": 4,
 "nbformat_minor": 5
}
