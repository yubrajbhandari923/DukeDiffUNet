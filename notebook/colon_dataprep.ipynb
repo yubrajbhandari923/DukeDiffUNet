{
 "cells": [
  {
   "cell_type": "code",
   "execution_count": 4,
   "id": "1c4cfab7",
   "metadata": {},
   "outputs": [
    {
     "name": "stdout",
     "output_type": "stream",
     "text": [
      "Found 558 files in /data/usr/yb107/3d_vlsm/labels\n",
      "Files: /data/usr/yb107/3d_vlsm/labels/Patient_00552_Study_84140_Series_03.nii.gz\n",
      "[✓] Wrote 558 valid entries to /home/yb107/cvpr2025/DukeDiffSeg/data/json/3d_vlsm_dataset.jsonl\n"
     ]
    }
   ],
   "source": [
    "import os\n",
    "import json\n",
    "import glob\n",
    "\n",
    "# === Set output path for your .jsonl dataset description ===\n",
    "# output_jsonl_path = \"/data/usr/yb107/colon_data/colon_dataset.jsonl\"\n",
    "output_jsonl_path = \"/home/yb107/cvpr2025/DukeDiffSeg/data/json/3d_vlsm_dataset.jsonl\"\n",
    "\n",
    "# === Fixed base paths ===\n",
    "image_dir = \"/data/usr/yb107/3d_vlsm/images\"\n",
    "mask_root = \"/data/usr/yb107/3d_vlsm/labels\"\n",
    "\n",
    "entries = []\n",
    "\n",
    "# === Go through each image ===\n",
    "# image_files = sorted(glob.glob(os.path.join(image_dir, \"*.nii.gz\")))\n",
    "\n",
    "# Go through each .nii.gz file in labels directory\n",
    "files = glob.glob(f\"{mask_root}/*.nii.gz\")\n",
    "print(f\"Found {len(files)} files in {mask_root}\")\n",
    "print(f\"Files: {files[0]}\")\n",
    "\n",
    "for mask_path in files:\n",
    "    # patient_name = os.path.basename(image_path).replace(\".nii.gz\", \"\")\n",
    "    # mask_path = os.path.join(mask_root, patient_name, \"colon.nii.gz\")\n",
    "    image_path = mask_path.replace(\"labels\", \"images\")\n",
    "\n",
    "    # # === Check if mask exists, raise error if not ===\n",
    "    if not os.path.exists(mask_path):\n",
    "        raise FileNotFoundError(f\"Missing mask for: {mask_path}\")\n",
    "\n",
    "    entries.append({\"image\": image_path, \"mask\": mask_path})\n",
    "\n",
    "# === Write to .jsonl ===\n",
    "with open(output_jsonl_path, \"w\") as f:\n",
    "    for entry in entries:\n",
    "        f.write(json.dumps(entry) + \"\\n\")\n",
    "\n",
    "print(f\"[✓] Wrote {len(entries)} valid entries to {output_jsonl_path}\")"
   ]
  },
  {
   "cell_type": "code",
   "execution_count": null,
   "id": "abbcf38e",
   "metadata": {},
   "outputs": [],
   "source": [
    "import json\n",
    "\n",
    "output_jsonl_path = (\n",
    "    \"/home/yb107/cvpr2025/DukeDiffSeg/data/3d_vlsm_v2/3d_vlsm_v2_dataset.jsonl\"\n",
    ")\n",
    "\n",
    "\n",
    "def divide_jsonl_train_val_test(\n",
    "    jsonl_file, train_file, val_file, test_file, train_ratio=0.7, val_ratio=0.2\n",
    "):\n",
    "    \"\"\"Divide the JSONL dataset into train, validation, and test sets.\"\"\"\n",
    "    with open(jsonl_file, \"r\") as f:\n",
    "        entries = [json.loads(line) for line in f]\n",
    "\n",
    "    total_entries = len(entries)\n",
    "    train_end = int(total_entries * train_ratio)\n",
    "    val_end = int(total_entries * (train_ratio + val_ratio))\n",
    "\n",
    "    with open(train_file, \"w\") as f:\n",
    "        for entry in entries[:train_end]:\n",
    "            f.write(json.dumps(entry) + \"\\n\")\n",
    "\n",
    "    with open(val_file, \"w\") as f:\n",
    "        for entry in entries[train_end:val_end]:\n",
    "            f.write(json.dumps(entry) + \"\\n\")\n",
    "\n",
    "    with open(test_file, \"w\") as f:\n",
    "        for entry in entries[val_end:]:\n",
    "            f.write(json.dumps(entry) + \"\\n\")\n",
    "\n",
    "\n",
    "divide_jsonl_train_val_test(\n",
    "    output_jsonl_path,\n",
    "    \"/home/yb107/cvpr2025/DukeDiffSeg/data/json/3d_vlsm_train.jsonl\",\n",
    "    \"/home/yb107/cvpr2025/DukeDiffSeg/data/json/3d_vlsm_val.jsonl\",\n",
    "    \"/home/yb107/cvpr2025/DukeDiffSeg/data/json/3d_vlsm_test.jsonl\",\n",
    ")"
   ]
  },
  {
   "cell_type": "markdown",
   "id": "35ab6450",
   "metadata": {},
   "source": [
    "# Copy Data from Drcc to Capri"
   ]
  },
  {
   "cell_type": "code",
   "execution_count": null,
   "id": "510a5ea1",
   "metadata": {},
   "outputs": [],
   "source": [
    "import os\n",
    "import subprocess\n",
    "\n",
    "# === Set these ===\n",
    "base_image_dir = \"/scratch/railabs/ld258/projects/3d_vlsm/data/images/\"\n",
    "remote_user = \"yb107\"\n",
    "remote_host = \"plp-capri\"\n",
    "remote_target_dir = \"/data/usr/yb107/colon_data/3d_vlsm/\"\n",
    "\n",
    "case_names = sorted(common_all)\n",
    "\n",
    "print(f\"Total cases to copy: {len(case_names)}\")\n",
    "# # === Loop and copy ===\n",
    "# for case in case_names:\n",
    "#     # Find matching files in base_image_dir\n",
    "#     matching_files = [f for f in os.listdir(base_image_dir) if f.startswith(case)]\n",
    "\n",
    "#     for file in matching_files:\n",
    "#         local_path = os.path.join(base_image_dir, file)\n",
    "\n",
    "#         # Check if file exists\n",
    "#         if not os.path.isfile(local_path):\n",
    "#             print(f\"[!] File not found: {local_path}\")\n",
    "#             continue\n",
    "\n",
    "#         remote_path = f\"{remote_user}@{remote_host}:{remote_target_dir}\"\n",
    "\n",
    "#         print(f\"Copying {file} → {remote_path}\")\n",
    "\n",
    "#         # Run scp (will ask for password unless SSH keys are set up)\n",
    "#         subprocess.run([\"scp\", local_path, remote_path])"
   ]
  }
 ],
 "metadata": {
  "kernelspec": {
   "display_name": "DukeDiffSeg-HooVw7aP",
   "language": "python",
   "name": "python3"
  },
  "language_info": {
   "codemirror_mode": {
    "name": "ipython",
    "version": 3
   },
   "file_extension": ".py",
   "mimetype": "text/x-python",
   "name": "python",
   "nbconvert_exporter": "python",
   "pygments_lexer": "ipython3",
   "version": "3.10.12"
  }
 },
 "nbformat": 4,
 "nbformat_minor": 5
}
