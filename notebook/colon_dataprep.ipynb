{
 "cells": [
  {
   "cell_type": "code",
   "execution_count": 2,
   "id": "1c4cfab7",
   "metadata": {},
   "outputs": [
    {
     "name": "stdout",
     "output_type": "stream",
     "text": [
      "[✓] Wrote 217 valid entries to /home/yb107/cvpr2025/DukeDiffSeg/data/json/colon_dataset.jsonl\n"
     ]
    }
   ],
   "source": [
    "import os\n",
    "import json\n",
    "import glob\n",
    "\n",
    "# === Set output path for your .jsonl dataset description ===\n",
    "# output_jsonl_path = \"/data/usr/yb107/colon_data/colon_dataset.jsonl\"\n",
    "output_jsonl_path = \"/home/yb107/cvpr2025/DukeDiffSeg/data/json/colon_dataset.jsonl\"\n",
    "\n",
    "# === Fixed base paths ===\n",
    "image_dir = \"/data/usr/yb107/colon_data/CT\"\n",
    "mask_root = \"/data/usr/yb107/colon_data/masks\"\n",
    "\n",
    "entries = []\n",
    "\n",
    "# === Go through each image ===\n",
    "image_files = sorted(glob.glob(os.path.join(image_dir, \"*.nii.gz\")))\n",
    "\n",
    "for image_path in image_files:\n",
    "    patient_name = os.path.basename(image_path).replace(\".nii.gz\", \"\")\n",
    "    mask_path = os.path.join(mask_root, patient_name, \"colon.nii.gz\")\n",
    "\n",
    "    # === Check if mask exists, raise error if not ===\n",
    "    if not os.path.exists(mask_path):\n",
    "        raise FileNotFoundError(f\"Missing mask for: {patient_name} → {mask_path}\")\n",
    "\n",
    "    entries.append({\"image\": image_path, \"mask\": mask_path})\n",
    "\n",
    "# === Write to .jsonl ===\n",
    "with open(output_jsonl_path, \"w\") as f:\n",
    "    for entry in entries:\n",
    "        f.write(json.dumps(entry) + \"\\n\")\n",
    "\n",
    "print(f\"[✓] Wrote {len(entries)} valid entries to {output_jsonl_path}\")"
   ]
  },
  {
   "cell_type": "code",
   "execution_count": 3,
   "id": "abbcf38e",
   "metadata": {},
   "outputs": [],
   "source": [
    "def divide_jsonl_train_val_test(\n",
    "    jsonl_file, train_file, val_file, test_file, train_ratio=0.7, val_ratio=0.2\n",
    "):\n",
    "    \"\"\"Divide the JSONL dataset into train, validation, and test sets.\"\"\"\n",
    "    with open(jsonl_file, \"r\") as f:\n",
    "        entries = [json.loads(line) for line in f]\n",
    "\n",
    "    total_entries = len(entries)\n",
    "    train_end = int(total_entries * train_ratio)\n",
    "    val_end = int(total_entries * (train_ratio + val_ratio))\n",
    "\n",
    "    with open(train_file, \"w\") as f:\n",
    "        for entry in entries[:train_end]:\n",
    "            f.write(json.dumps(entry) + \"\\n\")\n",
    "\n",
    "    with open(val_file, \"w\") as f:\n",
    "        for entry in entries[train_end:val_end]:\n",
    "            f.write(json.dumps(entry) + \"\\n\")\n",
    "\n",
    "    with open(test_file, \"w\") as f:\n",
    "        for entry in entries[val_end:]:\n",
    "            f.write(json.dumps(entry) + \"\\n\")\n",
    "\n",
    "\n",
    "divide_jsonl_train_val_test(\n",
    "    output_jsonl_path,\n",
    "    \"/home/yb107/cvpr2025/DukeDiffSeg/data/json/colon_train.jsonl\",\n",
    "    \"/home/yb107/cvpr2025/DukeDiffSeg/data/json/colon_val.jsonl\",\n",
    "    \"/home/yb107/cvpr2025/DukeDiffSeg/data/json/colon_test.jsonl\",\n",
    ")"
   ]
  }
 ],
 "metadata": {
  "kernelspec": {
   "display_name": "DukeDiffSeg-HooVw7aP",
   "language": "python",
   "name": "python3"
  },
  "language_info": {
   "codemirror_mode": {
    "name": "ipython",
    "version": 3
   },
   "file_extension": ".py",
   "mimetype": "text/x-python",
   "name": "python",
   "nbconvert_exporter": "python",
   "pygments_lexer": "ipython3",
   "version": "3.10.12"
  }
 },
 "nbformat": 4,
 "nbformat_minor": 5
}
